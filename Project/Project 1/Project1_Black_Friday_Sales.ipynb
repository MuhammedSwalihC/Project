{
 "cells": [
  {
   "cell_type": "code",
   "execution_count": 1,
   "metadata": {
    "id": "7UPCKgoA3W1t"
   },
   "outputs": [],
   "source": [
    "#to avoid warnings\n",
    "import warnings\n",
    "warnings.filterwarnings(\"ignore\")"
   ]
  },
  {
   "cell_type": "code",
   "execution_count": 2,
   "metadata": {
    "id": "yPcxD9V73iAP"
   },
   "outputs": [],
   "source": [
    "import pandas as pd\n",
    "import matplotlib.pyplot as plt\n"
   ]
  },
  {
   "cell_type": "code",
   "execution_count": 3,
   "metadata": {
    "id": "ydCfvuv07ZiQ"
   },
   "outputs": [],
   "source": [
    "data = pd.read_csv('/content/train.csv')"
   ]
  },
  {
   "cell_type": "code",
   "execution_count": 4,
   "metadata": {
    "colab": {
     "base_uri": "https://localhost:8080/",
     "height": 226
    },
    "id": "2IXgWXAg7yfd",
    "outputId": "befa4a4f-d280-409d-c231-21143e49d141"
   },
   "outputs": [
    {
     "data": {
      "text/html": [
       "<div>\n",
       "<style scoped>\n",
       "    .dataframe tbody tr th:only-of-type {\n",
       "        vertical-align: middle;\n",
       "    }\n",
       "\n",
       "    .dataframe tbody tr th {\n",
       "        vertical-align: top;\n",
       "    }\n",
       "\n",
       "    .dataframe thead th {\n",
       "        text-align: right;\n",
       "    }\n",
       "</style>\n",
       "<table border=\"1\" class=\"dataframe\">\n",
       "  <thead>\n",
       "    <tr style=\"text-align: right;\">\n",
       "      <th></th>\n",
       "      <th>User_ID</th>\n",
       "      <th>Product_ID</th>\n",
       "      <th>Gender</th>\n",
       "      <th>Age</th>\n",
       "      <th>Occupation</th>\n",
       "      <th>City_Category</th>\n",
       "      <th>Stay_In_Current_City_Years</th>\n",
       "      <th>Marital_Status</th>\n",
       "      <th>Product_Category_1</th>\n",
       "      <th>Product_Category_2</th>\n",
       "      <th>Product_Category_3</th>\n",
       "      <th>Purchase</th>\n",
       "    </tr>\n",
       "  </thead>\n",
       "  <tbody>\n",
       "    <tr>\n",
       "      <th>0</th>\n",
       "      <td>1000001</td>\n",
       "      <td>P00069042</td>\n",
       "      <td>F</td>\n",
       "      <td>0-17</td>\n",
       "      <td>10</td>\n",
       "      <td>A</td>\n",
       "      <td>2</td>\n",
       "      <td>0</td>\n",
       "      <td>3</td>\n",
       "      <td>NaN</td>\n",
       "      <td>NaN</td>\n",
       "      <td>8370</td>\n",
       "    </tr>\n",
       "    <tr>\n",
       "      <th>1</th>\n",
       "      <td>1000001</td>\n",
       "      <td>P00248942</td>\n",
       "      <td>F</td>\n",
       "      <td>0-17</td>\n",
       "      <td>10</td>\n",
       "      <td>A</td>\n",
       "      <td>2</td>\n",
       "      <td>0</td>\n",
       "      <td>1</td>\n",
       "      <td>6.0</td>\n",
       "      <td>14.0</td>\n",
       "      <td>15200</td>\n",
       "    </tr>\n",
       "    <tr>\n",
       "      <th>2</th>\n",
       "      <td>1000001</td>\n",
       "      <td>P00087842</td>\n",
       "      <td>F</td>\n",
       "      <td>0-17</td>\n",
       "      <td>10</td>\n",
       "      <td>A</td>\n",
       "      <td>2</td>\n",
       "      <td>0</td>\n",
       "      <td>12</td>\n",
       "      <td>NaN</td>\n",
       "      <td>NaN</td>\n",
       "      <td>1422</td>\n",
       "    </tr>\n",
       "    <tr>\n",
       "      <th>3</th>\n",
       "      <td>1000001</td>\n",
       "      <td>P00085442</td>\n",
       "      <td>F</td>\n",
       "      <td>0-17</td>\n",
       "      <td>10</td>\n",
       "      <td>A</td>\n",
       "      <td>2</td>\n",
       "      <td>0</td>\n",
       "      <td>12</td>\n",
       "      <td>14.0</td>\n",
       "      <td>NaN</td>\n",
       "      <td>1057</td>\n",
       "    </tr>\n",
       "    <tr>\n",
       "      <th>4</th>\n",
       "      <td>1000002</td>\n",
       "      <td>P00285442</td>\n",
       "      <td>M</td>\n",
       "      <td>55+</td>\n",
       "      <td>16</td>\n",
       "      <td>C</td>\n",
       "      <td>4+</td>\n",
       "      <td>0</td>\n",
       "      <td>8</td>\n",
       "      <td>NaN</td>\n",
       "      <td>NaN</td>\n",
       "      <td>7969</td>\n",
       "    </tr>\n",
       "  </tbody>\n",
       "</table>\n",
       "</div>"
      ],
      "text/plain": [
       "   User_ID Product_ID Gender  ... Product_Category_2  Product_Category_3 Purchase\n",
       "0  1000001  P00069042      F  ...                NaN                 NaN     8370\n",
       "1  1000001  P00248942      F  ...                6.0                14.0    15200\n",
       "2  1000001  P00087842      F  ...                NaN                 NaN     1422\n",
       "3  1000001  P00085442      F  ...               14.0                 NaN     1057\n",
       "4  1000002  P00285442      M  ...                NaN                 NaN     7969\n",
       "\n",
       "[5 rows x 12 columns]"
      ]
     },
     "execution_count": 4,
     "metadata": {
      "tags": []
     },
     "output_type": "execute_result"
    }
   ],
   "source": [
    "data.head()"
   ]
  },
  {
   "cell_type": "code",
   "execution_count": 5,
   "metadata": {
    "colab": {
     "base_uri": "https://localhost:8080/"
    },
    "id": "DQPasy878Wpa",
    "outputId": "81af037b-f2de-48ba-b156-914e4c7130f7"
   },
   "outputs": [
    {
     "data": {
      "text/plain": [
       "User_ID                            0\n",
       "Product_ID                         0\n",
       "Gender                             0\n",
       "Age                                0\n",
       "Occupation                         0\n",
       "City_Category                      0\n",
       "Stay_In_Current_City_Years         0\n",
       "Marital_Status                     0\n",
       "Product_Category_1                 0\n",
       "Product_Category_2            173638\n",
       "Product_Category_3            383247\n",
       "Purchase                           0\n",
       "dtype: int64"
      ]
     },
     "execution_count": 5,
     "metadata": {
      "tags": []
     },
     "output_type": "execute_result"
    }
   ],
   "source": [
    "data.isna().sum()"
   ]
  },
  {
   "cell_type": "code",
   "execution_count": 6,
   "metadata": {
    "colab": {
     "base_uri": "https://localhost:8080/"
    },
    "id": "0LQ8rG5h8Yud",
    "outputId": "edfb0d89-029f-47d1-fab3-644ffedba806"
   },
   "outputs": [
    {
     "data": {
      "text/plain": [
       "(550068, 12)"
      ]
     },
     "execution_count": 6,
     "metadata": {
      "tags": []
     },
     "output_type": "execute_result"
    }
   ],
   "source": [
    "data.shape"
   ]
  },
  {
   "cell_type": "code",
   "execution_count": 7,
   "metadata": {
    "colab": {
     "base_uri": "https://localhost:8080/"
    },
    "id": "1g84pHNz8a8y",
    "outputId": "6d59bdda-0b74-43c6-eb72-b8f13524fda6"
   },
   "outputs": [
    {
     "data": {
      "text/plain": [
       "Index(['Product_Category_2', 'Product_Category_3'], dtype='object')"
      ]
     },
     "execution_count": 7,
     "metadata": {
      "tags": []
     },
     "output_type": "execute_result"
    }
   ],
   "source": [
    "missingfloat64 = data[data.dtypes[data.dtypes=='float64'].index].isna().sum()[(data.isna().sum()>0)].index\n",
    "missingfloat64"
   ]
  },
  {
   "cell_type": "code",
   "execution_count": 8,
   "metadata": {
    "id": "WYWxTU-48c3B"
   },
   "outputs": [],
   "source": [
    "for x in missingfloat64:\n",
    "    data[x][data[x].isna()] = data[x].mean()"
   ]
  },
  {
   "cell_type": "code",
   "execution_count": 9,
   "metadata": {
    "colab": {
     "base_uri": "https://localhost:8080/",
     "height": 226
    },
    "id": "rsUqceLB8fUo",
    "outputId": "4d801eea-6549-48b8-ca17-7df7970bd7c0"
   },
   "outputs": [
    {
     "data": {
      "text/html": [
       "<div>\n",
       "<style scoped>\n",
       "    .dataframe tbody tr th:only-of-type {\n",
       "        vertical-align: middle;\n",
       "    }\n",
       "\n",
       "    .dataframe tbody tr th {\n",
       "        vertical-align: top;\n",
       "    }\n",
       "\n",
       "    .dataframe thead th {\n",
       "        text-align: right;\n",
       "    }\n",
       "</style>\n",
       "<table border=\"1\" class=\"dataframe\">\n",
       "  <thead>\n",
       "    <tr style=\"text-align: right;\">\n",
       "      <th></th>\n",
       "      <th>Gender</th>\n",
       "      <th>Age</th>\n",
       "      <th>Occupation</th>\n",
       "      <th>City_Category</th>\n",
       "      <th>Stay_In_Current_City_Years</th>\n",
       "      <th>Marital_Status</th>\n",
       "      <th>Product_Category_1</th>\n",
       "      <th>Product_Category_2</th>\n",
       "      <th>Product_Category_3</th>\n",
       "      <th>Purchase</th>\n",
       "    </tr>\n",
       "  </thead>\n",
       "  <tbody>\n",
       "    <tr>\n",
       "      <th>0</th>\n",
       "      <td>F</td>\n",
       "      <td>0-17</td>\n",
       "      <td>10</td>\n",
       "      <td>A</td>\n",
       "      <td>2</td>\n",
       "      <td>0</td>\n",
       "      <td>3</td>\n",
       "      <td>9.842329</td>\n",
       "      <td>12.668243</td>\n",
       "      <td>8370</td>\n",
       "    </tr>\n",
       "    <tr>\n",
       "      <th>1</th>\n",
       "      <td>F</td>\n",
       "      <td>0-17</td>\n",
       "      <td>10</td>\n",
       "      <td>A</td>\n",
       "      <td>2</td>\n",
       "      <td>0</td>\n",
       "      <td>1</td>\n",
       "      <td>6.000000</td>\n",
       "      <td>14.000000</td>\n",
       "      <td>15200</td>\n",
       "    </tr>\n",
       "    <tr>\n",
       "      <th>2</th>\n",
       "      <td>F</td>\n",
       "      <td>0-17</td>\n",
       "      <td>10</td>\n",
       "      <td>A</td>\n",
       "      <td>2</td>\n",
       "      <td>0</td>\n",
       "      <td>12</td>\n",
       "      <td>9.842329</td>\n",
       "      <td>12.668243</td>\n",
       "      <td>1422</td>\n",
       "    </tr>\n",
       "    <tr>\n",
       "      <th>3</th>\n",
       "      <td>F</td>\n",
       "      <td>0-17</td>\n",
       "      <td>10</td>\n",
       "      <td>A</td>\n",
       "      <td>2</td>\n",
       "      <td>0</td>\n",
       "      <td>12</td>\n",
       "      <td>14.000000</td>\n",
       "      <td>12.668243</td>\n",
       "      <td>1057</td>\n",
       "    </tr>\n",
       "    <tr>\n",
       "      <th>4</th>\n",
       "      <td>M</td>\n",
       "      <td>55+</td>\n",
       "      <td>16</td>\n",
       "      <td>C</td>\n",
       "      <td>4+</td>\n",
       "      <td>0</td>\n",
       "      <td>8</td>\n",
       "      <td>9.842329</td>\n",
       "      <td>12.668243</td>\n",
       "      <td>7969</td>\n",
       "    </tr>\n",
       "  </tbody>\n",
       "</table>\n",
       "</div>"
      ],
      "text/plain": [
       "  Gender   Age  Occupation  ... Product_Category_2 Product_Category_3  Purchase\n",
       "0      F  0-17          10  ...           9.842329          12.668243      8370\n",
       "1      F  0-17          10  ...           6.000000          14.000000     15200\n",
       "2      F  0-17          10  ...           9.842329          12.668243      1422\n",
       "3      F  0-17          10  ...          14.000000          12.668243      1057\n",
       "4      M   55+          16  ...           9.842329          12.668243      7969\n",
       "\n",
       "[5 rows x 10 columns]"
      ]
     },
     "execution_count": 9,
     "metadata": {
      "tags": []
     },
     "output_type": "execute_result"
    }
   ],
   "source": [
    "data.drop(['User_ID','Product_ID'], axis=1, inplace=True)\n",
    "data.head()"
   ]
  },
  {
   "cell_type": "code",
   "execution_count": 10,
   "metadata": {
    "id": "yFsP46948hNA"
   },
   "outputs": [],
   "source": [
    "numcols=data.dtypes[(data.dtypes=='int64')|(data.dtypes=='float64')].index"
   ]
  },
  {
   "cell_type": "code",
   "execution_count": 11,
   "metadata": {
    "id": "tXZeY_QP8juE"
   },
   "outputs": [],
   "source": [
    "import seaborn as sns"
   ]
  },
  {
   "cell_type": "code",
   "execution_count": 12,
   "metadata": {
    "colab": {
     "base_uri": "https://localhost:8080/",
     "height": 1000
    },
    "id": "JSJ56kJK8ljy",
    "outputId": "256e2958-dcb7-42d7-baae-3cc80f2f74bc"
   },
   "outputs": [
    {
     "data": {
      "image/png": "[encoded data removed]",
      "text/plain": [
       "<Figure size 432x288 with 1 Axes>"
      ]
     },
     "metadata": {
      "needs_background": "light",
      "tags": []
     },
     "output_type": "display_data"
    },
    {
     "data": {
      "image/png": "[encoded data removed]",
      "text/plain": [
       "<Figure size 432x288 with 1 Axes>"
      ]
     },
     "metadata": {
      "needs_background": "light",
      "tags": []
     },
     "output_type": "display_data"
    },
    {
     "data": {
      "image/png": "[encoded data removed]",
      "text/plain": [
       "<Figure size 432x288 with 1 Axes>"
      ]
     },
     "metadata": {
      "needs_background": "light",
      "tags": []
     },
     "output_type": "display_data"
    },
    {
     "data": {
      "image/png": "[encoded data removed]",
      "text/plain": [
       "<Figure size 432x288 with 1 Axes>"
      ]
     },
     "metadata": {
      "needs_background": "light",
      "tags": []
     },
     "output_type": "display_data"
    },
    {
     "data": {
      "image/png": "[encoded data removed]",
      "text/plain": [
       "<Figure size 432x288 with 1 Axes>"
      ]
     },
     "metadata": {
      "needs_background": "light",
      "tags": []
     },
     "output_type": "display_data"
    },
    {
     "data": {
      "image/png": "[encoded data removed]",
      "text/plain": [
       "<Figure size 432x288 with 1 Axes>"
      ]
     },
     "metadata": {
      "needs_background": "light",
      "tags": []
     },
     "output_type": "display_data"
    }
   ],
   "source": [
    "for x in numcols:\n",
    "    sns.boxplot(data[x],orient='h')\n",
    "    plt.title(x)\n",
    "    plt.show()"
   ]
  },
  {
   "cell_type": "code",
   "execution_count": 13,
   "metadata": {
    "id": "A7X98KmM8ngU"
   },
   "outputs": [],
   "source": [
    "descp1 = data[\"Product_Category_1\"].describe()\n",
    "IQR = descp1['75%'] - descp1['25%']\n",
    "upper_limitp1 =  descp1['75%'] + 1.5 * IQR\n",
    "lower_limitp1 =  descp1['25%'] - 1.5 * IQR  \n",
    "#outlier replacement\n",
    "data[\"Product_Category_1\"][data[\"Product_Category_1\"]>upper_limitp1] = upper_limitp1\n",
    "data[\"Product_Category_1\"][data[\"Product_Category_1\"]<lower_limitp1] = lower_limitp1"
   ]
  },
  {
   "cell_type": "code",
   "execution_count": 14,
   "metadata": {
    "id": "7TK4SOJm8q5H"
   },
   "outputs": [],
   "source": [
    "descp3 = data[\"Product_Category_3\"].describe()\n",
    "IQR = descp3['75%'] - descp3['25%']\n",
    "upper_limitp3 =  descp3['75%'] + 1.5 * IQR\n",
    "lower_limitp3 =  descp3['25%'] - 1.5 * IQR  \n",
    "#outlier replacement\n",
    "data[\"Product_Category_3\"][data[\"Product_Category_3\"]>upper_limitp3] = upper_limitp3\n",
    "data[\"Product_Category_3\"][data[\"Product_Category_3\"]<lower_limitp3] = lower_limitp3"
   ]
  },
  {
   "cell_type": "code",
   "execution_count": 15,
   "metadata": {
    "id": "deBDFnD_8twN"
   },
   "outputs": [],
   "source": [
    "descp = data[\"Purchase\"].describe()\n",
    "IQR = descp['75%'] - descp['25%']\n",
    "upper_limitp =  descp['75%'] + 1.5 * IQR\n",
    "lower_limitp =  descp['25%'] - 1.5 * IQR  \n",
    "#outlier replacement\n",
    "data[\"Purchase\"][data[\"Purchase\"]>upper_limitp] = upper_limitp\n",
    "data[\"Purchase\"][data[\"Purchase\"]<lower_limitp] = lower_limitp"
   ]
  },
  {
   "cell_type": "code",
   "execution_count": 16,
   "metadata": {
    "colab": {
     "base_uri": "https://localhost:8080/",
     "height": 1000
    },
    "id": "UzfjwzsE8vuS",
    "outputId": "af45687a-721e-4f83-9d2f-269feaf77ca5"
   },
   "outputs": [
    {
     "data": {
      "image/png": "[encoded data removed]",
      "text/plain": [
       "<Figure size 432x288 with 1 Axes>"
      ]
     },
     "metadata": {
      "needs_background": "light",
      "tags": []
     },
     "output_type": "display_data"
    },
    {
     "data": {
      "image/png": "[encoded data removed]",
      "text/plain": [
       "<Figure size 432x288 with 1 Axes>"
      ]
     },
     "metadata": {
      "needs_background": "light",
      "tags": []
     },
     "output_type": "display_data"
    },
    {
     "data": {
      "image/png": "[encoded data removed]",
      "text/plain": [
       "<Figure size 432x288 with 1 Axes>"
      ]
     },
     "metadata": {
      "needs_background": "light",
      "tags": []
     },
     "output_type": "display_data"
    },
    {
     "data": {
      "image/png": "[encoded data removed]",
      "text/plain": [
       "<Figure size 432x288 with 1 Axes>"
      ]
     },
     "metadata": {
      "needs_background": "light",
      "tags": []
     },
     "output_type": "display_data"
    },
    {
     "data": {
      "image/png": "[encoded data removed]",
      "text/plain": [
       "<Figure size 432x288 with 1 Axes>"
      ]
     },
     "metadata": {
      "needs_background": "light",
      "tags": []
     },
     "output_type": "display_data"
    },
    {
     "data": {
      "image/png": "[encoded data removed]",
      "text/plain": [
       "<Figure size 432x288 with 1 Axes>"
      ]
     },
     "metadata": {
      "needs_background": "light",
      "tags": []
     },
     "output_type": "display_data"
    }
   ],
   "source": [
    "for x in numcols:\n",
    "    sns.boxplot(data[x],orient='h')\n",
    "    plt.title(x)\n",
    "    plt.show()"
   ]
  },
  {
   "cell_type": "code",
   "execution_count": 17,
   "metadata": {
    "id": "D8udxS3u8xtm"
   },
   "outputs": [],
   "source": [
    "data['Age']=(data['Age'].str.strip('+'))"
   ]
  },
  {
   "cell_type": "code",
   "execution_count": 18,
   "metadata": {
    "id": "pmiJHIDA82dV"
   },
   "outputs": [],
   "source": [
    "data['Stay_In_Current_City_Years']=(data['Stay_In_Current_City_Years'].str.strip('+').astype('float'))"
   ]
  },
  {
   "cell_type": "code",
   "execution_count": 19,
   "metadata": {
    "colab": {
     "base_uri": "https://localhost:8080/"
    },
    "id": "4F0w6Qzi84Iz",
    "outputId": "8059f5c5-a924-4950-a25e-d198c2bc6f8a"
   },
   "outputs": [
    {
     "data": {
      "text/plain": [
       "Gender                         object\n",
       "Age                            object\n",
       "Occupation                      int64\n",
       "City_Category                  object\n",
       "Stay_In_Current_City_Years    float64\n",
       "Marital_Status                  int64\n",
       "Product_Category_1            float64\n",
       "Product_Category_2            float64\n",
       "Product_Category_3            float64\n",
       "Purchase                      float64\n",
       "dtype: object"
      ]
     },
     "execution_count": 19,
     "metadata": {
      "tags": []
     },
     "output_type": "execute_result"
    }
   ],
   "source": [
    "data.dtypes"
   ]
  },
  {
   "cell_type": "code",
   "execution_count": 20,
   "metadata": {
    "colab": {
     "base_uri": "https://localhost:8080/",
     "height": 411
    },
    "id": "IL-dW8SW85sj",
    "outputId": "b1e924d0-9e6e-42dd-91c2-38a19cf75bd5"
   },
   "outputs": [
    {
     "data": {
      "text/plain": [
       "<matplotlib.axes._subplots.AxesSubplot at 0x7f47ba975ba8>"
      ]
     },
     "execution_count": 20,
     "metadata": {
      "tags": []
     },
     "output_type": "execute_result"
    },
    {
     "data": {
      "image/png": "[encoded data removed]",
      "text/plain": [
       "<Figure size 432x288 with 2 Axes>"
      ]
     },
     "metadata": {
      "needs_background": "light",
      "tags": []
     },
     "output_type": "display_data"
    }
   ],
   "source": [
    "sns.heatmap(\n",
    "    data.corr(),\n",
    "    annot=True\n",
    ")"
   ]
  },
  {
   "cell_type": "code",
   "execution_count": 21,
   "metadata": {
    "id": "aEHT-D4e9BNV"
   },
   "outputs": [],
   "source": [
    "Purchase_corr = data.corr()['Purchase']"
   ]
  },
  {
   "cell_type": "code",
   "execution_count": 22,
   "metadata": {
    "colab": {
     "base_uri": "https://localhost:8080/"
    },
    "id": "JWUGpq-P9DMF",
    "outputId": "d9ec80a7-8f4c-4b16-88b8-f1c0d602d88b"
   },
   "outputs": [
    {
     "data": {
      "text/plain": [
       "Occupation                    2.085326e-02\n",
       "Stay_In_Current_City_Years    5.470767e-03\n",
       "Marital_Status               -5.987642e-04\n",
       "Product_Category_1           -3.461875e-01\n",
       "Product_Category_2           -1.818723e-01\n",
       "Product_Category_3           -3.286765e-14\n",
       "Purchase                      1.000000e+00\n",
       "Name: Purchase, dtype: float64"
      ]
     },
     "execution_count": 22,
     "metadata": {
      "tags": []
     },
     "output_type": "execute_result"
    }
   ],
   "source": [
    "Purchase_corr"
   ]
  },
  {
   "cell_type": "code",
   "execution_count": 23,
   "metadata": {
    "colab": {
     "base_uri": "https://localhost:8080/"
    },
    "id": "QAFuSXMV9Erx",
    "outputId": "38fa8741-9e2d-4600-f013-e66956ffb421"
   },
   "outputs": [
    {
     "data": {
      "text/plain": [
       "Occupation                    False\n",
       "Stay_In_Current_City_Years    False\n",
       "Marital_Status                False\n",
       "Product_Category_1             True\n",
       "Product_Category_2             True\n",
       "Product_Category_3            False\n",
       "Purchase                       True\n",
       "Name: Purchase, dtype: bool"
      ]
     },
     "execution_count": 23,
     "metadata": {
      "tags": []
     },
     "output_type": "execute_result"
    }
   ],
   "source": [
    "abs(Purchase_corr)>0.1"
   ]
  },
  {
   "cell_type": "markdown",
   "metadata": {
    "id": "gdbyv6tG9OnX"
   },
   "source": [
    "Occupation\n",
    "\n",
    "Stay_In_Current_City_Years\n",
    "\n",
    "Marital Status\n",
    "\n",
    "Increase in any of the values for the above three features is likey to result in a higher purchase from the customer.\n"
   ]
  },
  {
   "cell_type": "code",
   "execution_count": 24,
   "metadata": {
    "colab": {
     "base_uri": "https://localhost:8080/",
     "height": 458
    },
    "id": "4_M_gG5x9TlP",
    "outputId": "c61cd8ac-d3fa-4641-8704-8de3c48bb239"
   },
   "outputs": [
    {
     "data": {
      "text/plain": [
       "<seaborn.axisgrid.JointGrid at 0x7f47b8088f98>"
      ]
     },
     "execution_count": 24,
     "metadata": {
      "tags": []
     },
     "output_type": "execute_result"
    },
    {
     "data": {
      "image/png": "[encoded data removed]",
      "text/plain": [
       "<Figure size 432x432 with 3 Axes>"
      ]
     },
     "metadata": {
      "needs_background": "light",
      "tags": []
     },
     "output_type": "display_data"
    }
   ],
   "source": [
    "sns.jointplot(x='Occupation',y='Purchase',\n",
    "              data=data, kind='hex'\n",
    "             )"
   ]
  },
  {
   "cell_type": "code",
   "execution_count": 25,
   "metadata": {
    "id": "DrcPW81E9fbV"
   },
   "outputs": [],
   "source": [
    "data['Gender']=data['Gender'].map({'M':1,'F':0})\n",
    "data['Age']=pd.get_dummies(data['Age'])\n",
    "data['City_Category'] = pd.get_dummies(data['City_Category'])"
   ]
  },
  {
   "cell_type": "code",
   "execution_count": 26,
   "metadata": {
    "id": "iNSsNRXk9hwy"
   },
   "outputs": [],
   "source": [
    "X = data.drop('Purchase',axis = 1)\n",
    "y = data['Purchase']\n",
    "from sklearn.model_selection import train_test_split\n",
    "X_train, X_test, y_train, y_test = train_test_split(X, y, test_size = 0.33, random_state = 50)"
   ]
  },
  {
   "cell_type": "code",
   "execution_count": 27,
   "metadata": {
    "id": "ZhJNnA8U9kBq"
   },
   "outputs": [],
   "source": [
    "from sklearn.linear_model import LinearRegression"
   ]
  },
  {
   "cell_type": "code",
   "execution_count": 28,
   "metadata": {
    "id": "iyDk50Jx9npt"
   },
   "outputs": [],
   "source": [
    "lin_reg = LinearRegression()"
   ]
  },
  {
   "cell_type": "code",
   "execution_count": 29,
   "metadata": {
    "colab": {
     "base_uri": "https://localhost:8080/"
    },
    "id": "5avl3r_E9pQi",
    "outputId": "0d219e20-bef8-424a-8624-4d506595d834"
   },
   "outputs": [
    {
     "data": {
      "text/plain": [
       "LinearRegression(copy_X=True, fit_intercept=True, n_jobs=None, normalize=False)"
      ]
     },
     "execution_count": 29,
     "metadata": {
      "tags": []
     },
     "output_type": "execute_result"
    }
   ],
   "source": [
    "lin_reg.fit(X_train,y_train)"
   ]
  },
  {
   "cell_type": "code",
   "execution_count": 30,
   "metadata": {
    "colab": {
     "base_uri": "https://localhost:8080/"
    },
    "id": "gwOHNL2P9rQZ",
    "outputId": "df056916-e0c7-4bc8-aa6e-3b00d0a62066"
   },
   "outputs": [
    {
     "name": "stdout",
     "output_type": "stream",
     "text": [
      "[ 488.86394887 -474.48186443   10.09332382 -418.95429454   10.64471857\n",
      "   23.82279069 -414.58391605  -71.04727828 -148.99761409]\n"
     ]
    }
   ],
   "source": [
    "m  = lin_reg.coef_\n",
    "print(m)"
   ]
  },
  {
   "cell_type": "code",
   "execution_count": 31,
   "metadata": {
    "colab": {
     "base_uri": "https://localhost:8080/"
    },
    "id": "9qxGufyJ9tN5",
    "outputId": "c77e756d-6cf2-4da7-c76c-90320bf6d813"
   },
   "outputs": [
    {
     "data": {
      "text/plain": [
       "13725.749089756144"
      ]
     },
     "execution_count": 31,
     "metadata": {
      "tags": []
     },
     "output_type": "execute_result"
    }
   ],
   "source": [
    "c = lin_reg.intercept_\n",
    "c"
   ]
  },
  {
   "cell_type": "code",
   "execution_count": 32,
   "metadata": {
    "id": "XNM-CDzN9vBq"
   },
   "outputs": [],
   "source": [
    "ypred=lin_reg.predict(X_test)  #ypred consist of the predicted salary corresponding to X_test"
   ]
  },
  {
   "cell_type": "code",
   "execution_count": 33,
   "metadata": {
    "id": "lyTBUciX9wq4"
   },
   "outputs": [],
   "source": [
    "ypred_train = lin_reg.predict(X_train)"
   ]
  },
  {
   "cell_type": "code",
   "execution_count": 34,
   "metadata": {
    "colab": {
     "base_uri": "https://localhost:8080/"
    },
    "id": "4GkIHJ_Q9ylZ",
    "outputId": "36bf6e64-8892-45a3-fc82-e246813b09dd"
   },
   "outputs": [
    {
     "name": "stdout",
     "output_type": "stream",
     "text": [
      "MSE for Testing: 21928940.865160882\n"
     ]
    }
   ],
   "source": [
    "from sklearn.metrics import mean_squared_error #calculating MSE\n",
    "MSE=mean_squared_error(ypred,y_test)\n",
    "print(\"MSE for Testing:\",MSE)"
   ]
  },
  {
   "cell_type": "code",
   "execution_count": 36,
   "metadata": {
    "id": "qfsG0pjZQmR4"
   },
   "outputs": [],
   "source": [
    "import numpy as np"
   ]
  },
  {
   "cell_type": "code",
   "execution_count": 37,
   "metadata": {
    "colab": {
     "base_uri": "https://localhost:8080/"
    },
    "id": "abLu_T-fQPZV",
    "outputId": "3e66e633-69dc-4ebd-afa7-0c3080c6bc3c"
   },
   "outputs": [
    {
     "name": "stdout",
     "output_type": "stream",
     "text": [
      "Root Mean Squared Error of Linear Regression: 4682.834704018591\n"
     ]
    }
   ],
   "source": [
    "RMSE =np.sqrt(MSE)\n",
    "print(\"Root Mean Squared Error of Linear Regression:\",RMSE)"
   ]
  },
  {
   "cell_type": "code",
   "execution_count": 38,
   "metadata": {
    "colab": {
     "base_uri": "https://localhost:8080/"
    },
    "id": "sUmR2pfv90eI",
    "outputId": "fd633acf-cccc-4652-f851-7450251d7c9e"
   },
   "outputs": [
    {
     "name": "stdout",
     "output_type": "stream",
     "text": [
      "MSE for Training: 21775786.974791206\n"
     ]
    }
   ],
   "source": [
    "#Training Error\n",
    "y_pred_training = lin_reg.predict(X_train)\n",
    "MSE_training=mean_squared_error(y_pred_training,y_train)\n",
    "print(\"MSE for Training:\",MSE_training)"
   ]
  },
  {
   "cell_type": "code",
   "execution_count": 39,
   "metadata": {
    "colab": {
     "base_uri": "https://localhost:8080/"
    },
    "id": "zDjcglULQ1WA",
    "outputId": "a079f911-911c-48ef-eb01-5a63fe99326d"
   },
   "outputs": [
    {
     "name": "stdout",
     "output_type": "stream",
     "text": [
      "Root Mean Squared Error of Training- Linear Regression: 4666.453361471773\n"
     ]
    }
   ],
   "source": [
    "RMSE_training = np.sqrt(MSE_training)\n",
    "print(\"Root Mean Squared Error of Training- Linear Regression:\",RMSE_training)"
   ]
  },
  {
   "cell_type": "code",
   "execution_count": 40,
   "metadata": {
    "colab": {
     "base_uri": "https://localhost:8080/"
    },
    "id": "WQpdAQ5t92RW",
    "outputId": "bc1b2ece-3787-4c45-fd56-c2b97436cc08"
   },
   "outputs": [
    {
     "data": {
      "text/plain": [
       "0.12857457403777017"
      ]
     },
     "execution_count": 40,
     "metadata": {
      "tags": []
     },
     "output_type": "execute_result"
    }
   ],
   "source": [
    "lin_reg.score(X_train,y_train) #Train R2 value"
   ]
  },
  {
   "cell_type": "code",
   "execution_count": 41,
   "metadata": {
    "colab": {
     "base_uri": "https://localhost:8080/"
    },
    "id": "6j95u46i94SS",
    "outputId": "54c06563-583d-4b5b-bf39-edc705ffff8a"
   },
   "outputs": [
    {
     "data": {
      "text/plain": [
       "0.12312823020602837"
      ]
     },
     "execution_count": 41,
     "metadata": {
      "tags": []
     },
     "output_type": "execute_result"
    }
   ],
   "source": [
    "lin_reg.score(X_test,y_test) #Test R2 value"
   ]
  },
  {
   "cell_type": "markdown",
   "metadata": {
    "id": "h_nd7ISkTpAI"
   },
   "source": [
    "Ridge Regression"
   ]
  },
  {
   "cell_type": "code",
   "execution_count": 42,
   "metadata": {
    "colab": {
     "base_uri": "https://localhost:8080/"
    },
    "id": "zuhFMnPn96H4",
    "outputId": "14240cba-6fae-480c-e551-16d39435975a"
   },
   "outputs": [
    {
     "data": {
      "text/plain": [
       "GridSearchCV(cv=5, error_score=nan,\n",
       "             estimator=Ridge(alpha=1.0, copy_X=True, fit_intercept=True,\n",
       "                             max_iter=None, normalize=False, random_state=None,\n",
       "                             solver='auto', tol=0.001),\n",
       "             iid='deprecated', n_jobs=None,\n",
       "             param_grid={'alpha': [1e-15, 1e-10, 1e-08, 0.0001, 0.001, 0.01, 1,\n",
       "                                   5, 10, 20, 30],\n",
       "                         'solver': ['auto', 'svd', 'sag']},\n",
       "             pre_dispatch='2*n_jobs', refit=True, return_train_score=False,\n",
       "             scoring=None, verbose=0)"
      ]
     },
     "execution_count": 42,
     "metadata": {
      "tags": []
     },
     "output_type": "execute_result"
    }
   ],
   "source": [
    "\n",
    "from sklearn.model_selection import GridSearchCV\n",
    "from sklearn.linear_model import Ridge\n",
    "\n",
    "alphavalues = [1e-15, 1e-10, 1e-8, 1e-4, 1e-3,1e-2, 1, 5, 10, 20,30]\n",
    "solvervalues=['auto','svd','sag']\n",
    "ridge = Ridge()\n",
    "\n",
    "parameters = {'alpha': alphavalues,'solver':solvervalues}\n",
    "\n",
    "ridge_regressor = GridSearchCV(ridge, parameters,cv=5)\n",
    "\n",
    "ridge_regressor.fit(X_train, y_train)"
   ]
  },
  {
   "cell_type": "code",
   "execution_count": 43,
   "metadata": {
    "colab": {
     "base_uri": "https://localhost:8080/"
    },
    "id": "wt1OafiZ98Zv",
    "outputId": "ecf91ee7-2aa6-415d-f924-477384ee203f"
   },
   "outputs": [
    {
     "data": {
      "text/plain": [
       "{'alpha': 0.0001, 'solver': 'sag'}"
      ]
     },
     "execution_count": 43,
     "metadata": {
      "tags": []
     },
     "output_type": "execute_result"
    }
   ],
   "source": [
    "#to get the best parameter for the model\n",
    "ridge_regressor.best_params_"
   ]
  },
  {
   "cell_type": "code",
   "execution_count": 44,
   "metadata": {
    "id": "qiwdeZw9-VAP"
   },
   "outputs": [],
   "source": [
    "ridge_regressor = Ridge(alpha = 0.0001, solver = 'sag')"
   ]
  },
  {
   "cell_type": "code",
   "execution_count": 45,
   "metadata": {
    "colab": {
     "base_uri": "https://localhost:8080/"
    },
    "id": "N_rMtwcg-YK_",
    "outputId": "82bdf1c2-4037-4939-e018-9d54f4f8100c"
   },
   "outputs": [
    {
     "data": {
      "text/plain": [
       "Ridge(alpha=0.0001, copy_X=True, fit_intercept=True, max_iter=None,\n",
       "      normalize=False, random_state=None, solver='sag', tol=0.001)"
      ]
     },
     "execution_count": 45,
     "metadata": {
      "tags": []
     },
     "output_type": "execute_result"
    }
   ],
   "source": [
    "ridge_regressor.fit(X_train, y_train)"
   ]
  },
  {
   "cell_type": "code",
   "execution_count": 46,
   "metadata": {
    "id": "YW43Vepj-aB_"
   },
   "outputs": [],
   "source": [
    "ypred_ridge = ridge_regressor.predict(X_test)"
   ]
  },
  {
   "cell_type": "code",
   "execution_count": 47,
   "metadata": {
    "colab": {
     "base_uri": "https://localhost:8080/"
    },
    "id": "iaYG4txr-cID",
    "outputId": "3232db4b-dd54-46d0-e6c4-b5a2761dfc35"
   },
   "outputs": [
    {
     "data": {
      "text/plain": [
       "21928880.583138417"
      ]
     },
     "execution_count": 47,
     "metadata": {
      "tags": []
     },
     "output_type": "execute_result"
    }
   ],
   "source": [
    "from sklearn.metrics import mean_squared_error #calculating MSE\n",
    "Ridge_Error=mean_squared_error(y_test,ypred_ridge)\n",
    "Ridge_Error"
   ]
  },
  {
   "cell_type": "code",
   "execution_count": 48,
   "metadata": {
    "colab": {
     "base_uri": "https://localhost:8080/"
    },
    "id": "svvmxpQgTNS9",
    "outputId": "b8070154-fa68-4230-f9be-a98110084826"
   },
   "outputs": [
    {
     "name": "stdout",
     "output_type": "stream",
     "text": [
      "Root Mean Squared Error Ridge Regressor: 4682.8282675257715\n"
     ]
    }
   ],
   "source": [
    "RMSE_ridge = np.sqrt(Ridge_Error)\n",
    "print(\"Root Mean Squared Error Ridge Regressor:\",RMSE_ridge)"
   ]
  },
  {
   "cell_type": "code",
   "execution_count": 49,
   "metadata": {
    "colab": {
     "base_uri": "https://localhost:8080/"
    },
    "id": "tQ8qi1Pu-eh-",
    "outputId": "8e1d46e8-3e4e-418a-c9fb-f650a4094ebb"
   },
   "outputs": [
    {
     "data": {
      "text/plain": [
       "0.12313064070109292"
      ]
     },
     "execution_count": 49,
     "metadata": {
      "tags": []
     },
     "output_type": "execute_result"
    }
   ],
   "source": [
    "from sklearn.metrics import r2_score\n",
    "r2_score(y_test,ypred_ridge)"
   ]
  },
  {
   "cell_type": "markdown",
   "metadata": {
    "id": "cTU9q2HfT_IG"
   },
   "source": [
    "Lasso Regression"
   ]
  },
  {
   "cell_type": "code",
   "execution_count": 50,
   "metadata": {
    "colab": {
     "base_uri": "https://localhost:8080/"
    },
    "id": "FPL5dopMT2uI",
    "outputId": "ce060be7-3af0-47cc-8ae0-5ddd3e8e7c4c"
   },
   "outputs": [
    {
     "data": {
      "text/plain": [
       "GridSearchCV(cv=5, error_score=nan,\n",
       "             estimator=Lasso(alpha=1.0, copy_X=True, fit_intercept=True,\n",
       "                             max_iter=1000, normalize=False, positive=False,\n",
       "                             precompute=False, random_state=None,\n",
       "                             selection='cyclic', tol=0.0001, warm_start=False),\n",
       "             iid='deprecated', n_jobs=None,\n",
       "             param_grid={'alpha': [1e-15, 1e-10, 1e-08, 0.0001, 0.001, 0.01, 1,\n",
       "                                   5, 10, 20, 30]},\n",
       "             pre_dispatch='2*n_jobs', refit=True, return_train_score=False,\n",
       "             scoring=None, verbose=0)"
      ]
     },
     "execution_count": 50,
     "metadata": {
      "tags": []
     },
     "output_type": "execute_result"
    }
   ],
   "source": [
    "\n",
    "from sklearn.model_selection import GridSearchCV\n",
    "from sklearn.linear_model import Lasso\n",
    "\n",
    "alphavalues = [1e-15, 1e-10, 1e-8, 1e-4, 1e-3,1e-2, 1, 5, 10, 20,30]\n",
    "lasso = Lasso()\n",
    "\n",
    "parameters = {'alpha': alphavalues}\n",
    "\n",
    "lasso_regressor = GridSearchCV(lasso, parameters,cv=5)\n",
    "\n",
    "lasso_regressor.fit(X_train, y_train)"
   ]
  },
  {
   "cell_type": "code",
   "execution_count": 51,
   "metadata": {
    "colab": {
     "base_uri": "https://localhost:8080/"
    },
    "id": "_gdNc2y0UDXy",
    "outputId": "2bd70ac9-781a-4633-9425-ab4eea9288ae"
   },
   "outputs": [
    {
     "data": {
      "text/plain": [
       "{'alpha': 1e-15}"
      ]
     },
     "execution_count": 51,
     "metadata": {
      "tags": []
     },
     "output_type": "execute_result"
    }
   ],
   "source": [
    "#to get the best parameter for the model\n",
    "lasso_regressor.best_params_"
   ]
  },
  {
   "cell_type": "code",
   "execution_count": 52,
   "metadata": {
    "id": "vKkVl0RaUFgC"
   },
   "outputs": [],
   "source": [
    "lasso_regressor=Lasso(alpha=1e-15)\n",
    "lasso_regressor.fit(X_train,y_train)\n",
    "ypred_lasso=lasso_regressor.predict(X_test)"
   ]
  },
  {
   "cell_type": "code",
   "execution_count": 53,
   "metadata": {
    "colab": {
     "base_uri": "https://localhost:8080/"
    },
    "id": "QHt_KiA6UHZH",
    "outputId": "0cb32440-8e8a-43fd-c06a-0632177bbdf0"
   },
   "outputs": [
    {
     "name": "stdout",
     "output_type": "stream",
     "text": [
      "Root Mean Squared Error Lasso Regressor: 4682.834704018591\n"
     ]
    }
   ],
   "source": [
    "Lasso_Error=mean_squared_error(y_test,ypred_lasso)\n",
    "\n",
    "RMSE_lasso = np.sqrt(Lasso_Error)\n",
    "print(\"Root Mean Squared Error Lasso Regressor:\",RMSE_lasso)"
   ]
  },
  {
   "cell_type": "code",
   "execution_count": 54,
   "metadata": {
    "colab": {
     "base_uri": "https://localhost:8080/"
    },
    "id": "jVxXuKnUUbQU",
    "outputId": "8a62bbda-02ef-4a98-aa1b-6ddfd365ce7f"
   },
   "outputs": [
    {
     "data": {
      "text/plain": [
       "0.12312823020602837"
      ]
     },
     "execution_count": 54,
     "metadata": {
      "tags": []
     },
     "output_type": "execute_result"
    }
   ],
   "source": [
    "r2_score(y_test,ypred_lasso)"
   ]
  },
  {
   "cell_type": "markdown",
   "metadata": {
    "id": "Su21ogF5Ukaj"
   },
   "source": [
    "ElasticNet"
   ]
  },
  {
   "cell_type": "code",
   "execution_count": 55,
   "metadata": {
    "colab": {
     "base_uri": "https://localhost:8080/"
    },
    "id": "qryutCFBUgqD",
    "outputId": "16a4b2a1-0c0d-4148-f7da-49dd11daceae"
   },
   "outputs": [
    {
     "data": {
      "text/plain": [
       "GridSearchCV(cv=None, error_score=nan,\n",
       "             estimator=ElasticNet(alpha=1.0, copy_X=True, fit_intercept=True,\n",
       "                                  l1_ratio=0.5, max_iter=1000, normalize=False,\n",
       "                                  positive=False, precompute=False,\n",
       "                                  random_state=None, selection='cyclic',\n",
       "                                  tol=0.0001, warm_start=False),\n",
       "             iid='deprecated', n_jobs=None,\n",
       "             param_grid={'alpha': [1e-15, 1e-10, 1e-08, 0.0001, 0.001, 0.01, 1,\n",
       "                                   5, 10, 20]},\n",
       "             pre_dispatch='2*n_jobs', refit=True, return_train_score=False,\n",
       "             scoring=None, verbose=0)"
      ]
     },
     "execution_count": 55,
     "metadata": {
      "tags": []
     },
     "output_type": "execute_result"
    }
   ],
   "source": [
    "\n",
    "\n",
    "from sklearn.linear_model import ElasticNet\n",
    "\n",
    "elastic = ElasticNet()\n",
    "\n",
    "parameters = {'alpha': [1e-15, 1e-10, 1e-8, 1e-4, 1e-3,1e-2, 1, 5, 10, 20]}\n",
    "\n",
    "elastic_regressor = GridSearchCV(elastic, parameters)\n",
    "\n",
    "elastic_regressor.fit(X_train, y_train)"
   ]
  },
  {
   "cell_type": "code",
   "execution_count": 56,
   "metadata": {
    "colab": {
     "base_uri": "https://localhost:8080/"
    },
    "id": "0xOOH03_Uq4y",
    "outputId": "cfac0462-73b2-48dc-ca86-619890f0ac68"
   },
   "outputs": [
    {
     "data": {
      "text/plain": [
       "{'alpha': 0.0001}"
      ]
     },
     "execution_count": 56,
     "metadata": {
      "tags": []
     },
     "output_type": "execute_result"
    }
   ],
   "source": [
    "elastic_regressor.best_params_"
   ]
  },
  {
   "cell_type": "code",
   "execution_count": 57,
   "metadata": {
    "id": "i-OjhnKMUswu"
   },
   "outputs": [],
   "source": [
    "elastic_regressor=ElasticNet(alpha=0.0001)\n",
    "elastic_regressor.fit(X_train,y_train)\n",
    "ypred_elastic=elastic_regressor.predict(X_test)"
   ]
  },
  {
   "cell_type": "code",
   "execution_count": 58,
   "metadata": {
    "colab": {
     "base_uri": "https://localhost:8080/"
    },
    "id": "y_6VJUhiUu01",
    "outputId": "6a85c987-3661-43d3-99b7-fd9bd9a13a58"
   },
   "outputs": [
    {
     "name": "stdout",
     "output_type": "stream",
     "text": [
      "Root Mean Squared Error ElasticNet Regressor: 4682.835372211951\n"
     ]
    }
   ],
   "source": [
    "elastic_Error=mean_squared_error(y_test,ypred_elastic)\n",
    "RMSE_elastic = np.sqrt(elastic_Error)\n",
    "print(\"Root Mean Squared Error ElasticNet Regressor:\",RMSE_elastic)"
   ]
  },
  {
   "cell_type": "code",
   "execution_count": 59,
   "metadata": {
    "colab": {
     "base_uri": "https://localhost:8080/"
    },
    "id": "3SMUk8cFUxX-",
    "outputId": "1ce9c6df-58c1-43f4-a5e3-32fb17ba7b4d"
   },
   "outputs": [
    {
     "data": {
      "text/plain": [
       "0.123127979964466"
      ]
     },
     "execution_count": 59,
     "metadata": {
      "tags": []
     },
     "output_type": "execute_result"
    }
   ],
   "source": [
    "r2_score(y_test,ypred_elastic)"
   ]
  },
  {
   "cell_type": "markdown",
   "metadata": {
    "id": "m15fzE_UXbx2"
   },
   "source": [
    "Random Forest Classifier"
   ]
  },
  {
   "cell_type": "code",
   "execution_count": 60,
   "metadata": {
    "id": "Bj2YfGb_BYH3"
   },
   "outputs": [],
   "source": [
    "#importing Random Forest Classifier from sklearn.ensemble\n",
    "\n",
    "from sklearn.model_selection import GridSearchCV #GridSearchCV is for parameter tuning\n",
    "from sklearn.ensemble import RandomForestRegressor\n",
    "regressor=RandomForestRegressor()"
   ]
  },
  {
   "cell_type": "code",
   "execution_count": 61,
   "metadata": {
    "colab": {
     "base_uri": "https://localhost:8080/"
    },
    "id": "HfpmNTAUCUHh",
    "outputId": "2dd7d746-5492-4d42-be90-4e12505114c6"
   },
   "outputs": [
    {
     "data": {
      "text/plain": [
       "GridSearchCV(cv=None, error_score=nan,\n",
       "             estimator=RandomForestRegressor(bootstrap=True, ccp_alpha=0.0,\n",
       "                                             criterion='mse', max_depth=None,\n",
       "                                             max_features='auto',\n",
       "                                             max_leaf_nodes=None,\n",
       "                                             max_samples=None,\n",
       "                                             min_impurity_decrease=0.0,\n",
       "                                             min_impurity_split=None,\n",
       "                                             min_samples_leaf=1,\n",
       "                                             min_samples_split=2,\n",
       "                                             min_weight_fraction_leaf=0.0,\n",
       "                                             n_estimators=100, n_jobs=None,\n",
       "                                             oob_score=False, random_state=None,\n",
       "                                             verbose=0, warm_start=False),\n",
       "             iid='deprecated', n_jobs=None,\n",
       "             param_grid={'criterion': ['mse'], 'max_depth': [3, 5, 10],\n",
       "                         'n_estimators': [75, 100]},\n",
       "             pre_dispatch='2*n_jobs', refit=True, return_train_score=False,\n",
       "             scoring=None, verbose=0)"
      ]
     },
     "execution_count": 61,
     "metadata": {
      "tags": []
     },
     "output_type": "execute_result"
    }
   ],
   "source": [
    "n_estimators=[75,100] #number of decision trees in the forest, default = 100\n",
    "criterion=['mse'] #criteria for choosing nodes default = 'gini'\n",
    "max_depth=[3,5,10] #maximum number of nodes in a tree default = None (it will go till all possible nodes)\n",
    "parameters={'n_estimators': n_estimators,'criterion':criterion,'max_depth':max_depth} #this will undergo 4*2*3 = 24 iterations\n",
    "RFR_reg= GridSearchCV(regressor, parameters)\n",
    "RFR_reg.fit(X_train,y_train)"
   ]
  },
  {
   "cell_type": "code",
   "execution_count": 62,
   "metadata": {
    "colab": {
     "base_uri": "https://localhost:8080/"
    },
    "id": "Bv_n181wB_qb",
    "outputId": "5bac8e56-f0c4-4485-f96c-baec9ecb04b2"
   },
   "outputs": [
    {
     "data": {
      "text/plain": [
       "{'criterion': 'mse', 'max_depth': 10, 'n_estimators': 100}"
      ]
     },
     "execution_count": 62,
     "metadata": {
      "tags": []
     },
     "output_type": "execute_result"
    }
   ],
   "source": [
    "RFR_reg.best_params_"
   ]
  },
  {
   "cell_type": "code",
   "execution_count": 63,
   "metadata": {
    "colab": {
     "base_uri": "https://localhost:8080/"
    },
    "id": "pY0OTnYTMeTq",
    "outputId": "ff902c6f-5540-4a39-b36e-92cfa81352e9"
   },
   "outputs": [
    {
     "data": {
      "text/plain": [
       "RandomForestRegressor(bootstrap=True, ccp_alpha=0.0, criterion='mse',\n",
       "                      max_depth=10, max_features='auto', max_leaf_nodes=None,\n",
       "                      max_samples=None, min_impurity_decrease=0.0,\n",
       "                      min_impurity_split=None, min_samples_leaf=1,\n",
       "                      min_samples_split=2, min_weight_fraction_leaf=0.0,\n",
       "                      n_estimators=100, n_jobs=None, oob_score=False,\n",
       "                      random_state=None, verbose=0, warm_start=False)"
      ]
     },
     "execution_count": 63,
     "metadata": {
      "tags": []
     },
     "output_type": "execute_result"
    }
   ],
   "source": [
    "regressor = RandomForestRegressor(criterion = \"mse\",max_depth = 10 , n_estimators = 100)\n",
    "regressor.fit(X_train,y_train)"
   ]
  },
  {
   "cell_type": "code",
   "execution_count": 64,
   "metadata": {
    "id": "xjlovjtpNmuk"
   },
   "outputs": [],
   "source": [
    "ypred = regressor.predict(X_test)"
   ]
  },
  {
   "cell_type": "code",
   "execution_count": 65,
   "metadata": {
    "colab": {
     "base_uri": "https://localhost:8080/"
    },
    "id": "eAcdMh4ENrI3",
    "outputId": "6fcf0217-e8d4-49d7-c19b-e75e08422f48"
   },
   "outputs": [
    {
     "name": "stdout",
     "output_type": "stream",
     "text": [
      "MSE: 8853534.93153626\n"
     ]
    }
   ],
   "source": [
    "from sklearn.metrics import mean_squared_error #calculating MSE\n",
    "MSE=mean_squared_error(ypred,y_test)\n",
    "print(\"MSE:\",MSE)"
   ]
  },
  {
   "cell_type": "code",
   "execution_count": 66,
   "metadata": {
    "colab": {
     "base_uri": "https://localhost:8080/"
    },
    "id": "GNSmV7oTXs4W",
    "outputId": "06eaab10-d0d5-44a4-95ad-2677eb9ef83c"
   },
   "outputs": [
    {
     "name": "stdout",
     "output_type": "stream",
     "text": [
      "Root Mean Squared Error RandomForest Regressor: 2975.489023931404\n"
     ]
    }
   ],
   "source": [
    "RMSE_random_forest = np.sqrt(MSE)\n",
    "print(\"Root Mean Squared Error RandomForest Regressor:\",RMSE_random_forest)"
   ]
  },
  {
   "cell_type": "code",
   "execution_count": 67,
   "metadata": {
    "colab": {
     "base_uri": "https://localhost:8080/"
    },
    "id": "X7Y5UsVjNtv1",
    "outputId": "ecb89f5d-7e8f-4777-d2ed-d98a13e3ba81"
   },
   "outputs": [
    {
     "data": {
      "text/plain": [
       "2975.489023931404"
      ]
     },
     "execution_count": 67,
     "metadata": {
      "tags": []
     },
     "output_type": "execute_result"
    }
   ],
   "source": [
    "import math\n",
    "math.sqrt(MSE)"
   ]
  },
  {
   "cell_type": "markdown",
   "metadata": {
    "id": "0rZNq-UcYGWi"
   },
   "source": [
    "XGBoost Regresser"
   ]
  },
  {
   "cell_type": "code",
   "execution_count": 69,
   "metadata": {
    "id": "6npywrmuN5tp"
   },
   "outputs": [],
   "source": [
    " import xgboost as xgb"
   ]
  },
  {
   "cell_type": "code",
   "execution_count": 70,
   "metadata": {
    "id": "YgLb1BtCOVFv"
   },
   "outputs": [],
   "source": [
    "xg_reg = xgb.XGBRegressor(objective ='reg:squarederror', colsample_bytree = 0.2, learning_rate = 0.1,\n",
    "                max_depth = 5, alpha = 10, n_estimators = 100)"
   ]
  },
  {
   "cell_type": "code",
   "execution_count": 71,
   "metadata": {
    "colab": {
     "base_uri": "https://localhost:8080/"
    },
    "id": "1bUVnMHCOpyr",
    "outputId": "7d2b4acd-d235-447f-93ac-5be758d86aad"
   },
   "outputs": [
    {
     "data": {
      "text/plain": [
       "XGBRegressor(alpha=10, base_score=0.5, booster='gbtree', colsample_bylevel=1,\n",
       "             colsample_bynode=1, colsample_bytree=0.2, gamma=0,\n",
       "             importance_type='gain', learning_rate=0.1, max_delta_step=0,\n",
       "             max_depth=5, min_child_weight=1, missing=None, n_estimators=100,\n",
       "             n_jobs=1, nthread=None, objective='reg:squarederror',\n",
       "             random_state=0, reg_alpha=0, reg_lambda=1, scale_pos_weight=1,\n",
       "             seed=None, silent=None, subsample=1, verbosity=1)"
      ]
     },
     "execution_count": 71,
     "metadata": {
      "tags": []
     },
     "output_type": "execute_result"
    }
   ],
   "source": [
    "xg_reg.fit(X_train,y_train)"
   ]
  },
  {
   "cell_type": "code",
   "execution_count": 72,
   "metadata": {
    "id": "MpO5J5lMOxT3"
   },
   "outputs": [],
   "source": [
    "y_pred = xg_reg.predict(X_test)"
   ]
  },
  {
   "cell_type": "code",
   "execution_count": 73,
   "metadata": {
    "id": "Y_uKs22dO-mR"
   },
   "outputs": [],
   "source": [
    "import numpy as np"
   ]
  },
  {
   "cell_type": "code",
   "execution_count": 74,
   "metadata": {
    "colab": {
     "base_uri": "https://localhost:8080/"
    },
    "id": "REkC6TV-O1NE",
    "outputId": "ffca0717-93bb-416b-9057-05f0744c5ea8"
   },
   "outputs": [
    {
     "name": "stdout",
     "output_type": "stream",
     "text": [
      "RMSE: 3200.276201\n"
     ]
    }
   ],
   "source": [
    "rmse = np.sqrt(mean_squared_error(y_test, y_pred))\n",
    "print(\"RMSE: %f\" % (rmse))"
   ]
  },
  {
   "cell_type": "markdown",
   "metadata": {
    "id": "TS6ic2VcYyFp"
   },
   "source": [
    "Error Dictionary to compare RMSE"
   ]
  },
  {
   "cell_type": "code",
   "execution_count": 76,
   "metadata": {
    "colab": {
     "base_uri": "https://localhost:8080/"
    },
    "id": "6n5a3V15P_hs",
    "outputId": "83713ab5-8b99-45b2-9007-6c716bf5b422"
   },
   "outputs": [
    {
     "data": {
      "text/plain": [
       "{'ElasticNet Regression:': 4682.835372211951,\n",
       " 'Lasso Regression': 4682.834704018591,\n",
       " 'Linear Regression': 4682.834704018591,\n",
       " 'RandomForest Regression:': 2975.489023931404,\n",
       " 'Ridge Regression': 4682.8282675257715,\n",
       " 'XGBoost:': 3200.276201136349}"
      ]
     },
     "execution_count": 76,
     "metadata": {
      "tags": []
     },
     "output_type": "execute_result"
    }
   ],
   "source": [
    "ErrorDictionary ={'Linear Regression': RMSE,\n",
    "                 'Ridge Regression':RMSE_ridge,\n",
    "                 'Lasso Regression':RMSE_lasso,\n",
    "                 'ElasticNet Regression:':RMSE_elastic,\n",
    "                 'RandomForest Regression:':RMSE_random_forest,\n",
    "                 'XGBoost:':rmse}\n",
    "ErrorDictionary"
   ]
  },
  {
   "cell_type": "markdown",
   "metadata": {
    "id": "3m8AsEktZa4g"
   },
   "source": [
    "Here we can see that XGBoost Regression Model has the least Root Mean Squared Error, so we select XGBoost Model as our final model.¶"
   ]
  }
 ],
 "metadata": {
  "colab": {
   "name": "Project1 Black_Friday_Sales.ipynb",
   "provenance": []
  },
  "kernelspec": {
   "display_name": "Python 3",
   "language": "python",
   "name": "python3"
  },
  "language_info": {
   "codemirror_mode": {
    "name": "ipython",
    "version": 3
   },
   "file_extension": ".py",
   "mimetype": "text/x-python",
   "name": "python",
   "nbconvert_exporter": "python",
   "pygments_lexer": "ipython3",
   "version": "3.8.3"
  }
 },
 "nbformat": 4,
 "nbformat_minor": 1
}
